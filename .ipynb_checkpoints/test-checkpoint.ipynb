{
 "cells": [
  {
   "cell_type": "code",
   "execution_count": 1,
   "metadata": {},
   "outputs": [
    {
     "data": {
      "text/plain": [
       "{'message_id': 13,\n",
       " 'from': {'id': 1545683010,\n",
       "  'is_bot': True,\n",
       "  'first_name': 'test',\n",
       "  'username': 'gidiriBot'},\n",
       " 'chat': {'id': 1186881443,\n",
       "  'first_name': 'ju',\n",
       "  'username': 'gidiri',\n",
       "  'type': 'private'},\n",
       " 'date': 1610813091,\n",
       " 'text': '테스트'}"
      ]
     },
     "execution_count": 1,
     "metadata": {},
     "output_type": "execute_result"
    }
   ],
   "source": [
    "import telepot\n",
    "import requests\n",
    "from bs4 import BeautifulSoup\n",
    "\n",
    "# 봇 토큰\n",
    "token= \"1545683010:AAE5yCIkbuGh4z9Am0rPENKlNF1KAc06ucw\"\n",
    "\n",
    "# 보낼사람 ID\n",
    "gidiri = \"1186881443\"\n",
    "\n",
    "bot = telepot.Bot(token)\n",
    "bot.sendMessage(gidiri, \"테스트\")"
   ]
  },
  {
   "cell_type": "code",
   "execution_count": 36,
   "metadata": {},
   "outputs": [
    {
     "name": "stdout",
     "output_type": "stream",
     "text": [
      "17일 비발디 카풀제공\n",
      "19일 화요일 경기 파주  일산라인에서 비발디 당일  왕복합니다\n",
      "용평 일요일(17) 당일치기 서울출발 카플제공.\n",
      "내일 일요일 안산-곤지암 아땡 왕복 제공해요\n",
      "18(월) 오전 셔울~웰팍\n",
      "**당일왕복**1/17(일) 오전 6:30분 서울 군자-->휘팍 카풀 제공.\n",
      "17일 광명에서 휘팍 당일치기 카풀제공\n",
      "17일(일) 웰팍출발 ->대전도착\n",
      "17일(일) 청담동->비발디\n",
      "16일(토)오전 대전09:30~10:00출발 웰팍도착\n",
      "16일 토 파주 탄현 일산 라인에서 비발디  당일치기입니다\n",
      "15일 안산--->웰팍 저녁8시반 출발합니다 최대2인가능\n",
      "1/16 대구→하이원 당일치기\n",
      "1월16일 토요일 건대<--->용평(주간)\n",
      "1/17일 서울-지산 왕복 제공\n",
      "1/17 남양주(도농역)<->휘팍 왕복 카풀제공\n",
      "[부산-하이원]  16~17일\n",
      "오늘 밤 11시 30분 경북 칠곡 → 웰팍 일욜오후 복귀\n",
      "(마감)1/16(토) 대구->하이원->대구\n",
      "16일(토) 안산 -> 휘팍 두자리 있습니다\n"
     ]
    }
   ],
   "source": [
    "url = \"http://www.hungryboarder.com/index.php?_filter=search&mid=Carpool&category=438&search_target=title_content\"\n",
    "while True:\n",
    "    \n",
    "    html = requests.get(url,\"html\")\n",
    "    soup = BeautifulSoup(html.text)\n",
    "    titles = soup.findAll(class_=\"title\")\n",
    "    for title in titles[2:]:\n",
    "        print(title.find(\"a\").text)\n",
    "        \n",
    "bot.sendMessage(gidiri, url)"
   ]
  },
  {
   "cell_type": "code",
   "execution_count": 18,
   "metadata": {},
   "outputs": [],
   "source": [
    "\n",
    "\n"
   ]
  },
  {
   "cell_type": "code",
   "execution_count": null,
   "metadata": {},
   "outputs": [],
   "source": []
  }
 ],
 "metadata": {
  "kernelspec": {
   "display_name": "Python 3",
   "language": "python",
   "name": "python3"
  },
  "language_info": {
   "codemirror_mode": {
    "name": "ipython",
    "version": 3
   },
   "file_extension": ".py",
   "mimetype": "text/x-python",
   "name": "python",
   "nbconvert_exporter": "python",
   "pygments_lexer": "ipython3",
   "version": "3.8.5"
  }
 },
 "nbformat": 4,
 "nbformat_minor": 4
}
